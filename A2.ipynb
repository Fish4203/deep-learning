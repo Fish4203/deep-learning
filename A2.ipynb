{
 "cells": [
  {
   "cell_type": "code",
   "execution_count": 33,
   "id": "a14e2f6a-7351-4e21-b04a-dd3b7603de23",
   "metadata": {},
   "outputs": [
    {
     "name": "stdout",
     "output_type": "stream",
     "text": [
      "2.16.2\n",
      "1 Physical GPUs, 1 Logical GPUs\n"
     ]
    }
   ],
   "source": [
    "import tensorflow as tf\n",
    "import numpy as np\n",
    "import matplotlib.pyplot as plt\n",
    "import os\n",
    "\n",
    "print(tf.__version__)\n",
    "\n",
    "gpus = tf.config.list_physical_devices('GPU')\n",
    "if gpus:\n",
    "  try:\n",
    "    # Currently, memory growth needs to be the same across GPUs\n",
    "    for gpu in gpus:\n",
    "      tf.config.experimental.set_memory_growth(gpu, True)\n",
    "    logical_gpus = tf.config.list_logical_devices('GPU')\n",
    "    print(len(gpus), \"Physical GPUs,\", len(logical_gpus), \"Logical GPUs\")\n",
    "  except RuntimeError as e:\n",
    "    # Memory growth must be set before GPUs have been initialized\n",
    "    print(e)"
   ]
  },
  {
   "cell_type": "code",
   "execution_count": 32,
   "id": "f1fb0538",
   "metadata": {},
   "outputs": [],
   "source": [
    "# clean for debug purpose only \n",
    "\n",
    "trainData = None\n",
    "valData = None\n",
    "testData = None\n",
    "model = None\n",
    "\n",
    "tf.keras.backend.clear_session(free_memory=True)\n"
   ]
  },
  {
   "cell_type": "markdown",
   "id": "31f2a32e",
   "metadata": {},
   "source": [
    "## Loading the data\n",
    "\n",
    "TODO"
   ]
  },
  {
   "cell_type": "code",
   "execution_count": 3,
   "id": "c15f0894",
   "metadata": {},
   "outputs": [
    {
     "name": "stdout",
     "output_type": "stream",
     "text": [
      "19573\n",
      "9274\n",
      "39129\n",
      "Counter({'entailment': 19619, 'contradiction': 19510})\n"
     ]
    }
   ],
   "source": [
    "# load images and labels \n",
    "from collections import Counter\n",
    "import json\n",
    "\n",
    "labelSet = Counter()\n",
    "dataDict = {}\n",
    "vocab = set()\n",
    "\n",
    "\n",
    "datasetLen = 0\n",
    "with open(\"./A2_train_v3.jsonl\", \"r\") as jsonFile:\n",
    "\tfor line in jsonFile:\n",
    "\t\tdatasetLen += 1\n",
    "\t\tloadedLine = json.loads(line)\n",
    "\t\tif loadedLine[\"Image_ID\"] not in dataDict:\n",
    "\t\t\tdataDict[loadedLine[\"Image_ID\"]] = []\n",
    "\n",
    "\t\tlabelSet[loadedLine[\"Label\"]] += 1\n",
    "\n",
    "\t\thypo = [''.join(char for char in word if char.isalnum()) for word in loadedLine[\"Hypothesis\"].lower().split()]\n",
    "\t\tvocab.update(hypo)\n",
    "\n",
    "\t\tdataDict[loadedLine[\"Image_ID\"]].append((hypo, loadedLine[\"Label\"]))\n",
    "\n",
    "labelTuple = tuple(labelSet.keys())\n",
    "vocab = list(vocab)\n",
    "\n",
    "vocabIndex = {vocab[i]: i for i in range(len(vocab))}\n",
    "\n",
    "print(len(dataDict.keys()))\n",
    "print(len(vocabIndex))\n",
    "print(datasetLen)\n",
    "print(labelSet)"
   ]
  },
  {
   "cell_type": "markdown",
   "id": "4604c7f2",
   "metadata": {},
   "source": [
    "## Creating the tensorflow dataset\n",
    "\n",
    "TODO"
   ]
  },
  {
   "cell_type": "code",
   "execution_count": 4,
   "id": "d46b27a1",
   "metadata": {},
   "outputs": [],
   "source": [
    "embeddingDim = 100\n",
    "embeddingMatrix = np.zeros((len(vocab), embeddingDim))\n",
    "embeddedVocab = []\n",
    "\n",
    "with open(f'glove.6B.{embeddingDim}d.txt', encoding=\"utf-8\") as gloveFile:\n",
    "\tfor line in gloveFile:\n",
    "\t\tvalues = line.split()\n",
    "\t\tword = values[0]\n",
    "\n",
    "\t\tif word in vocab:\n",
    "\t\t\tembeddingMatrix[vocabIndex[word]] = np.asarray(values[1:], dtype='float32')\n",
    "\t\t\tembeddedVocab.append(word)\n",
    "        "
   ]
  },
  {
   "cell_type": "code",
   "execution_count": 5,
   "id": "90abb6e6-b570-4164-ad36-1d5377b99bdc",
   "metadata": {
    "scrolled": true
   },
   "outputs": [],
   "source": [
    "maxLen = 128\n",
    "\n",
    "X1array = []\n",
    "X2array = []\n",
    "YArray = []\n",
    "\n",
    "for key, hypoAndLabels in dataDict.items():\n",
    "\timg = f'./A2_Images/{key}.jpg'\n",
    "\n",
    "\tfor hypo, label in hypoAndLabels:\n",
    "\t\tlabel = tf.convert_to_tensor([labelTuple.index(label)])\n",
    "\t\tlabel.set_shape([1])\n",
    "\n",
    "\t\thypo = [vocabIndex[word] for word in hypo]\n",
    "\t\thypo = tf.convert_to_tensor(tf.keras.preprocessing.sequence.pad_sequences([hypo], maxlen=maxLen)[0])\n",
    "\t\thypo.set_shape([maxLen])\n",
    "\n",
    "\t\tX1array.append(img)\n",
    "\t\tX2array.append(hypo)\n",
    "\t\tYArray.append(label)\n",
    "\n",
    "X1Numpy = np.array(X1array)\n",
    "X2Numpy = np.array(X2array)\n",
    "YNumpy = np.array(YArray, dtype='uint8')\n",
    "\n",
    "dataset = tf.data.Dataset.from_tensor_slices(({'image': X1Numpy, 'text': X2Numpy}, YNumpy))\n",
    "\n",
    "def getImage(path):\n",
    "\timg = tf.io.read_file(path)\n",
    "\timg = tf.io.decode_image(img, channels=3)\n",
    "\timg = tf.image.resize(img, (224, 224), method='nearest')\n",
    "\treturn img\n",
    "\n",
    "def getImageWrapper(x, y):\n",
    "\timg = tf.py_function(func=getImage, inp=[x['image']], Tout=tf.uint8)\n",
    "\timg.set_shape([224, 224, 3])\n",
    "\n",
    "\tx['image'] = img \n",
    "\treturn x, y\n",
    "\n",
    "dataset = dataset.map(getImageWrapper, num_parallel_calls=tf.data.AUTOTUNE)"
   ]
  },
  {
   "cell_type": "code",
   "execution_count": 36,
   "id": "fc476692",
   "metadata": {},
   "outputs": [
    {
     "name": "stdout",
     "output_type": "stream",
     "text": [
      "({'image': <tf.Tensor: shape=(224, 224, 3), dtype=uint8, numpy=\n",
      "array([[[ 55, 118, 162],\n",
      "        [ 53, 117, 165],\n",
      "        [ 45, 113, 162],\n",
      "        ...,\n",
      "        [179, 177, 164],\n",
      "        [175, 173, 161],\n",
      "        [175, 173, 160]],\n",
      "\n",
      "       [[ 61, 122, 169],\n",
      "        [ 54, 118, 166],\n",
      "        [ 53, 119, 169],\n",
      "        ...,\n",
      "        [180, 178, 165],\n",
      "        [174, 173, 155],\n",
      "        [176, 174, 159]],\n",
      "\n",
      "       [[ 58, 122, 168],\n",
      "        [ 57, 121, 169],\n",
      "        [ 54, 120, 170],\n",
      "        ...,\n",
      "        [177, 175, 162],\n",
      "        [179, 178, 158],\n",
      "        [176, 174, 159]],\n",
      "\n",
      "       ...,\n",
      "\n",
      "       [[129, 132, 141],\n",
      "        [149, 149, 157],\n",
      "        [168, 168, 170],\n",
      "        ...,\n",
      "        [157, 130, 123],\n",
      "        [158, 140, 130],\n",
      "        [155, 140, 133]],\n",
      "\n",
      "       [[  4,   5,  26],\n",
      "        [ 15,  12,  31],\n",
      "        [ 28,  24,  38],\n",
      "        ...,\n",
      "        [155, 128, 121],\n",
      "        [158, 139, 132],\n",
      "        [155, 140, 133]],\n",
      "\n",
      "       [[  8,   7,  12],\n",
      "        [ 12,   8,   7],\n",
      "        [ 17,  12,   8],\n",
      "        ...,\n",
      "        [150, 125, 118],\n",
      "        [156, 137, 130],\n",
      "        [150, 136, 127]]], dtype=uint8)>, 'text': <tf.Tensor: shape=(128,), dtype=int32, numpy=\n",
      "array([   0,    0,    0,    0,    0,    0,    0,    0,    0,    0,    0,\n",
      "          0,    0,    0,    0,    0,    0,    0,    0,    0,    0,    0,\n",
      "          0,    0,    0,    0,    0,    0,    0,    0,    0,    0,    0,\n",
      "          0,    0,    0,    0,    0,    0,    0,    0,    0,    0,    0,\n",
      "          0,    0,    0,    0,    0,    0,    0,    0,    0,    0,    0,\n",
      "          0,    0,    0,    0,    0,    0,    0,    0,    0,    0,    0,\n",
      "          0,    0,    0,    0,    0,    0,    0,    0,    0,    0,    0,\n",
      "          0,    0,    0,    0,    0,    0,    0,    0,    0,    0,    0,\n",
      "          0,    0,    0,    0,    0,    0,    0,    0,    0,    0,    0,\n",
      "          0,    0,    0,    0,    0,    0,    0,    0,    0,    0,    0,\n",
      "          0,    0,    0,    0,    0,    0,    0,    0,    0,    0, 9032,\n",
      "       5211, 2027,  556,  934,  543, 3646, 2997], dtype=int32)>}, <tf.Tensor: shape=(1,), dtype=uint8, numpy=array([0], dtype=uint8)>)\n"
     ]
    },
    {
     "name": "stderr",
     "output_type": "stream",
     "text": [
      "2025-10-06 16:13:41.403357: I tensorflow/core/framework/local_rendezvous.cc:404] Local rendezvous is aborting with status: OUT_OF_RANGE: End of sequence\n"
     ]
    }
   ],
   "source": [
    "for i in dataset.take(1):\n",
    "\tprint(i)"
   ]
  },
  {
   "cell_type": "code",
   "execution_count": 34,
   "id": "692ba090",
   "metadata": {},
   "outputs": [
    {
     "name": "stdout",
     "output_type": "stream",
     "text": [
      "test data batches 2000\n",
      "val data batches 2000\n",
      "train data batches 35300\n",
      "ratios test:1956 val:1956 train:35217\n"
     ]
    }
   ],
   "source": [
    "testSize = int(datasetLen * 0.05)\n",
    "valSize = int(datasetLen * 0.05)\n",
    "trainSize = int(datasetLen - testSize - valSize)\n",
    "batchSize = 100\n",
    "\n",
    "def optimize(ds):\n",
    "\tds = ds.batch(batchSize) \n",
    "\tds = ds.cache() \n",
    "\tds = ds.prefetch(buffer_size=tf.data.AUTOTUNE)\n",
    "\t\n",
    "\treturn ds\n",
    "\n",
    "def getTest(ds):\n",
    "\tds = ds.take(testSize) \n",
    "\tds = optimize(ds)\n",
    "\t\n",
    "\treturn ds\n",
    "\n",
    "def getVal(ds):\n",
    "\tds = ds.skip(testSize)\n",
    "\tds = ds.take(valSize) \n",
    "\tds = optimize(ds)\n",
    "\n",
    "\treturn ds\n",
    "\n",
    "def getTrain(ds):\n",
    "\tds = ds.skip(valSize + testSize)\n",
    "\tds = ds.take(trainSize)\n",
    "\tds = optimize(ds)\n",
    "\n",
    "\treturn ds\n",
    "\n",
    "testDS = getTest(dataset)\n",
    "valDS = getVal(dataset)\n",
    "trainDS = getTrain(dataset)\n",
    "\n",
    "\n",
    "print(f\"test data batches {tf.data.experimental.cardinality(testDS).numpy() * batchSize}\")\n",
    "print(f\"val data batches {tf.data.experimental.cardinality(valDS).numpy() * batchSize}\")\n",
    "print(f\"train data batches {tf.data.experimental.cardinality(trainDS).numpy() * batchSize}\")\n",
    "print(f'ratios test:{testSize} val:{valSize} train:{trainSize}')\n"
   ]
  },
  {
   "cell_type": "markdown",
   "id": "604a6a8b",
   "metadata": {},
   "source": [
    "# Training\n",
    "\n",
    "The performance metric I chose to optimize for needed to handle heavily imbalanced data so I chose to take the accuracy of my model at predicting each class then taking the weighted arithmetic mean of all of those. I could have also used the macro or micro F1 score but I chose to use accuracy because it is a simple metric that has more real world meaning than the F1 score. For medical this algorithm to be useful in medical diagnosis I want to target an average accuracy of 97.5%, while this is a fairly low accuracy target since the goal of this project is to classify a large number of cells I figure that the count and ratio of call types is the more important than getting every single cell correctly labeled. \n",
    "\n",
    "Below is the code I used to compile, train, and evaluate all the models.\n",
    "I created my own custom loss function based off sparse categorical cross entropy but I added weights to compensate for the class imbalance.\n",
    "I created accuracy metrics for each class. "
   ]
  },
  {
   "cell_type": "code",
   "execution_count": 55,
   "id": "37e03aab-fb34-41c0-8006-0ee2da2d3297",
   "metadata": {},
   "outputs": [
    {
     "data": {
      "text/html": [
       "<pre style=\"white-space:pre;overflow-x:auto;line-height:normal;font-family:Menlo,'DejaVu Sans Mono',consolas,'Courier New',monospace\"><span style=\"font-weight: bold\">Model: \"functional_10\"</span>\n",
       "</pre>\n"
      ],
      "text/plain": [
       "\u001b[1mModel: \"functional_10\"\u001b[0m\n"
      ]
     },
     "metadata": {},
     "output_type": "display_data"
    },
    {
     "data": {
      "text/html": [
       "<pre style=\"white-space:pre;overflow-x:auto;line-height:normal;font-family:Menlo,'DejaVu Sans Mono',consolas,'Courier New',monospace\">┏━━━━━━━━━━━━━━━━━━━━━┳━━━━━━━━━━━━━━━━━━━┳━━━━━━━━━━━━┳━━━━━━━━━━━━━━━━━━━┓\n",
       "┃<span style=\"font-weight: bold\"> Layer (type)        </span>┃<span style=\"font-weight: bold\"> Output Shape      </span>┃<span style=\"font-weight: bold\">    Param # </span>┃<span style=\"font-weight: bold\"> Connected to      </span>┃\n",
       "┡━━━━━━━━━━━━━━━━━━━━━╇━━━━━━━━━━━━━━━━━━━╇━━━━━━━━━━━━╇━━━━━━━━━━━━━━━━━━━┩\n",
       "│ text (<span style=\"color: #0087ff; text-decoration-color: #0087ff\">InputLayer</span>)   │ (<span style=\"color: #00d7ff; text-decoration-color: #00d7ff\">None</span>, <span style=\"color: #00af00; text-decoration-color: #00af00\">128</span>)       │          <span style=\"color: #00af00; text-decoration-color: #00af00\">0</span> │ -                 │\n",
       "├─────────────────────┼───────────────────┼────────────┼───────────────────┤\n",
       "│ embedding           │ (<span style=\"color: #00d7ff; text-decoration-color: #00d7ff\">None</span>, <span style=\"color: #00af00; text-decoration-color: #00af00\">128</span>, <span style=\"color: #00af00; text-decoration-color: #00af00\">100</span>)  │    <span style=\"color: #00af00; text-decoration-color: #00af00\">927,400</span> │ text[<span style=\"color: #00af00; text-decoration-color: #00af00\">0</span>][<span style=\"color: #00af00; text-decoration-color: #00af00\">0</span>]        │\n",
       "│ (<span style=\"color: #0087ff; text-decoration-color: #0087ff\">Embedding</span>)         │                   │            │                   │\n",
       "├─────────────────────┼───────────────────┼────────────┼───────────────────┤\n",
       "│ not_equal_15        │ (<span style=\"color: #00d7ff; text-decoration-color: #00d7ff\">None</span>, <span style=\"color: #00af00; text-decoration-color: #00af00\">128</span>)       │          <span style=\"color: #00af00; text-decoration-color: #00af00\">0</span> │ text[<span style=\"color: #00af00; text-decoration-color: #00af00\">0</span>][<span style=\"color: #00af00; text-decoration-color: #00af00\">0</span>]        │\n",
       "│ (<span style=\"color: #0087ff; text-decoration-color: #0087ff\">NotEqual</span>)          │                   │            │                   │\n",
       "├─────────────────────┼───────────────────┼────────────┼───────────────────┤\n",
       "│ denseText           │ (<span style=\"color: #00d7ff; text-decoration-color: #00d7ff\">None</span>, <span style=\"color: #00af00; text-decoration-color: #00af00\">128</span>, <span style=\"color: #00af00; text-decoration-color: #00af00\">128</span>)  │     <span style=\"color: #00af00; text-decoration-color: #00af00\">12,928</span> │ embedding[<span style=\"color: #00af00; text-decoration-color: #00af00\">0</span>][<span style=\"color: #00af00; text-decoration-color: #00af00\">0</span>],  │\n",
       "│ (<span style=\"color: #0087ff; text-decoration-color: #0087ff\">TimeDistributed</span>)   │                   │            │ not_equal_15[<span style=\"color: #00af00; text-decoration-color: #00af00\">0</span>][<span style=\"color: #00af00; text-decoration-color: #00af00\">…</span> │\n",
       "├─────────────────────┼───────────────────┼────────────┼───────────────────┤\n",
       "│ image (<span style=\"color: #0087ff; text-decoration-color: #0087ff\">InputLayer</span>)  │ (<span style=\"color: #00d7ff; text-decoration-color: #00d7ff\">None</span>, <span style=\"color: #00af00; text-decoration-color: #00af00\">224</span>, <span style=\"color: #00af00; text-decoration-color: #00af00\">224</span>,  │          <span style=\"color: #00af00; text-decoration-color: #00af00\">0</span> │ -                 │\n",
       "│                     │ <span style=\"color: #00af00; text-decoration-color: #00af00\">3</span>)                │            │                   │\n",
       "├─────────────────────┼───────────────────┼────────────┼───────────────────┤\n",
       "│ attentionText       │ (<span style=\"color: #00d7ff; text-decoration-color: #00d7ff\">None</span>, <span style=\"color: #00af00; text-decoration-color: #00af00\">128</span>, <span style=\"color: #00af00; text-decoration-color: #00af00\">128</span>)  │    <span style=\"color: #00af00; text-decoration-color: #00af00\">527,488</span> │ denseText[<span style=\"color: #00af00; text-decoration-color: #00af00\">0</span>][<span style=\"color: #00af00; text-decoration-color: #00af00\">0</span>],  │\n",
       "│ (<span style=\"color: #0087ff; text-decoration-color: #0087ff\">MultiHeadAttentio…</span> │                   │            │ denseText[<span style=\"color: #00af00; text-decoration-color: #00af00\">0</span>][<span style=\"color: #00af00; text-decoration-color: #00af00\">0</span>],  │\n",
       "│                     │                   │            │ denseText[<span style=\"color: #00af00; text-decoration-color: #00af00\">0</span>][<span style=\"color: #00af00; text-decoration-color: #00af00\">0</span>]   │\n",
       "├─────────────────────┼───────────────────┼────────────┼───────────────────┤\n",
       "│ MobileNetV3Large    │ (<span style=\"color: #00d7ff; text-decoration-color: #00d7ff\">None</span>, <span style=\"color: #00af00; text-decoration-color: #00af00\">960</span>)       │  <span style=\"color: #00af00; text-decoration-color: #00af00\">2,996,352</span> │ image[<span style=\"color: #00af00; text-decoration-color: #00af00\">0</span>][<span style=\"color: #00af00; text-decoration-color: #00af00\">0</span>]       │\n",
       "│ (<span style=\"color: #0087ff; text-decoration-color: #0087ff\">Functional</span>)        │                   │            │                   │\n",
       "├─────────────────────┼───────────────────┼────────────┼───────────────────┤\n",
       "│ denseText2 (<span style=\"color: #0087ff; text-decoration-color: #0087ff\">Dense</span>)  │ (<span style=\"color: #00d7ff; text-decoration-color: #00d7ff\">None</span>, <span style=\"color: #00af00; text-decoration-color: #00af00\">128</span>, <span style=\"color: #00af00; text-decoration-color: #00af00\">256</span>)  │     <span style=\"color: #00af00; text-decoration-color: #00af00\">33,024</span> │ attentionText[<span style=\"color: #00af00; text-decoration-color: #00af00\">0</span>]… │\n",
       "├─────────────────────┼───────────────────┼────────────┼───────────────────┤\n",
       "│ denseImage (<span style=\"color: #0087ff; text-decoration-color: #0087ff\">Dense</span>)  │ (<span style=\"color: #00d7ff; text-decoration-color: #00d7ff\">None</span>, <span style=\"color: #00af00; text-decoration-color: #00af00\">256</span>)       │    <span style=\"color: #00af00; text-decoration-color: #00af00\">246,016</span> │ MobileNetV3Large… │\n",
       "├─────────────────────┼───────────────────┼────────────┼───────────────────┤\n",
       "│ combined (<span style=\"color: #0087ff; text-decoration-color: #0087ff\">Dot</span>)      │ (<span style=\"color: #00d7ff; text-decoration-color: #00d7ff\">None</span>, <span style=\"color: #00af00; text-decoration-color: #00af00\">128</span>)       │          <span style=\"color: #00af00; text-decoration-color: #00af00\">0</span> │ denseText2[<span style=\"color: #00af00; text-decoration-color: #00af00\">0</span>][<span style=\"color: #00af00; text-decoration-color: #00af00\">0</span>], │\n",
       "│                     │                   │            │ denseImage[<span style=\"color: #00af00; text-decoration-color: #00af00\">0</span>][<span style=\"color: #00af00; text-decoration-color: #00af00\">0</span>]  │\n",
       "├─────────────────────┼───────────────────┼────────────┼───────────────────┤\n",
       "│ dense_35 (<span style=\"color: #0087ff; text-decoration-color: #0087ff\">Dense</span>)    │ (<span style=\"color: #00d7ff; text-decoration-color: #00d7ff\">None</span>, <span style=\"color: #00af00; text-decoration-color: #00af00\">256</span>)       │     <span style=\"color: #00af00; text-decoration-color: #00af00\">33,024</span> │ combined[<span style=\"color: #00af00; text-decoration-color: #00af00\">0</span>][<span style=\"color: #00af00; text-decoration-color: #00af00\">0</span>]    │\n",
       "├─────────────────────┼───────────────────┼────────────┼───────────────────┤\n",
       "│ dense_36 (<span style=\"color: #0087ff; text-decoration-color: #0087ff\">Dense</span>)    │ (<span style=\"color: #00d7ff; text-decoration-color: #00d7ff\">None</span>, <span style=\"color: #00af00; text-decoration-color: #00af00\">256</span>)       │     <span style=\"color: #00af00; text-decoration-color: #00af00\">65,792</span> │ dense_35[<span style=\"color: #00af00; text-decoration-color: #00af00\">0</span>][<span style=\"color: #00af00; text-decoration-color: #00af00\">0</span>]    │\n",
       "├─────────────────────┼───────────────────┼────────────┼───────────────────┤\n",
       "│ output (<span style=\"color: #0087ff; text-decoration-color: #0087ff\">Dense</span>)      │ (<span style=\"color: #00d7ff; text-decoration-color: #00d7ff\">None</span>, <span style=\"color: #00af00; text-decoration-color: #00af00\">1</span>)         │        <span style=\"color: #00af00; text-decoration-color: #00af00\">257</span> │ dense_36[<span style=\"color: #00af00; text-decoration-color: #00af00\">0</span>][<span style=\"color: #00af00; text-decoration-color: #00af00\">0</span>]    │\n",
       "└─────────────────────┴───────────────────┴────────────┴───────────────────┘\n",
       "</pre>\n"
      ],
      "text/plain": [
       "┏━━━━━━━━━━━━━━━━━━━━━┳━━━━━━━━━━━━━━━━━━━┳━━━━━━━━━━━━┳━━━━━━━━━━━━━━━━━━━┓\n",
       "┃\u001b[1m \u001b[0m\u001b[1mLayer (type)       \u001b[0m\u001b[1m \u001b[0m┃\u001b[1m \u001b[0m\u001b[1mOutput Shape     \u001b[0m\u001b[1m \u001b[0m┃\u001b[1m \u001b[0m\u001b[1m   Param #\u001b[0m\u001b[1m \u001b[0m┃\u001b[1m \u001b[0m\u001b[1mConnected to     \u001b[0m\u001b[1m \u001b[0m┃\n",
       "┡━━━━━━━━━━━━━━━━━━━━━╇━━━━━━━━━━━━━━━━━━━╇━━━━━━━━━━━━╇━━━━━━━━━━━━━━━━━━━┩\n",
       "│ text (\u001b[38;5;33mInputLayer\u001b[0m)   │ (\u001b[38;5;45mNone\u001b[0m, \u001b[38;5;34m128\u001b[0m)       │          \u001b[38;5;34m0\u001b[0m │ -                 │\n",
       "├─────────────────────┼───────────────────┼────────────┼───────────────────┤\n",
       "│ embedding           │ (\u001b[38;5;45mNone\u001b[0m, \u001b[38;5;34m128\u001b[0m, \u001b[38;5;34m100\u001b[0m)  │    \u001b[38;5;34m927,400\u001b[0m │ text[\u001b[38;5;34m0\u001b[0m][\u001b[38;5;34m0\u001b[0m]        │\n",
       "│ (\u001b[38;5;33mEmbedding\u001b[0m)         │                   │            │                   │\n",
       "├─────────────────────┼───────────────────┼────────────┼───────────────────┤\n",
       "│ not_equal_15        │ (\u001b[38;5;45mNone\u001b[0m, \u001b[38;5;34m128\u001b[0m)       │          \u001b[38;5;34m0\u001b[0m │ text[\u001b[38;5;34m0\u001b[0m][\u001b[38;5;34m0\u001b[0m]        │\n",
       "│ (\u001b[38;5;33mNotEqual\u001b[0m)          │                   │            │                   │\n",
       "├─────────────────────┼───────────────────┼────────────┼───────────────────┤\n",
       "│ denseText           │ (\u001b[38;5;45mNone\u001b[0m, \u001b[38;5;34m128\u001b[0m, \u001b[38;5;34m128\u001b[0m)  │     \u001b[38;5;34m12,928\u001b[0m │ embedding[\u001b[38;5;34m0\u001b[0m][\u001b[38;5;34m0\u001b[0m],  │\n",
       "│ (\u001b[38;5;33mTimeDistributed\u001b[0m)   │                   │            │ not_equal_15[\u001b[38;5;34m0\u001b[0m][\u001b[38;5;34m…\u001b[0m │\n",
       "├─────────────────────┼───────────────────┼────────────┼───────────────────┤\n",
       "│ image (\u001b[38;5;33mInputLayer\u001b[0m)  │ (\u001b[38;5;45mNone\u001b[0m, \u001b[38;5;34m224\u001b[0m, \u001b[38;5;34m224\u001b[0m,  │          \u001b[38;5;34m0\u001b[0m │ -                 │\n",
       "│                     │ \u001b[38;5;34m3\u001b[0m)                │            │                   │\n",
       "├─────────────────────┼───────────────────┼────────────┼───────────────────┤\n",
       "│ attentionText       │ (\u001b[38;5;45mNone\u001b[0m, \u001b[38;5;34m128\u001b[0m, \u001b[38;5;34m128\u001b[0m)  │    \u001b[38;5;34m527,488\u001b[0m │ denseText[\u001b[38;5;34m0\u001b[0m][\u001b[38;5;34m0\u001b[0m],  │\n",
       "│ (\u001b[38;5;33mMultiHeadAttentio…\u001b[0m │                   │            │ denseText[\u001b[38;5;34m0\u001b[0m][\u001b[38;5;34m0\u001b[0m],  │\n",
       "│                     │                   │            │ denseText[\u001b[38;5;34m0\u001b[0m][\u001b[38;5;34m0\u001b[0m]   │\n",
       "├─────────────────────┼───────────────────┼────────────┼───────────────────┤\n",
       "│ MobileNetV3Large    │ (\u001b[38;5;45mNone\u001b[0m, \u001b[38;5;34m960\u001b[0m)       │  \u001b[38;5;34m2,996,352\u001b[0m │ image[\u001b[38;5;34m0\u001b[0m][\u001b[38;5;34m0\u001b[0m]       │\n",
       "│ (\u001b[38;5;33mFunctional\u001b[0m)        │                   │            │                   │\n",
       "├─────────────────────┼───────────────────┼────────────┼───────────────────┤\n",
       "│ denseText2 (\u001b[38;5;33mDense\u001b[0m)  │ (\u001b[38;5;45mNone\u001b[0m, \u001b[38;5;34m128\u001b[0m, \u001b[38;5;34m256\u001b[0m)  │     \u001b[38;5;34m33,024\u001b[0m │ attentionText[\u001b[38;5;34m0\u001b[0m]… │\n",
       "├─────────────────────┼───────────────────┼────────────┼───────────────────┤\n",
       "│ denseImage (\u001b[38;5;33mDense\u001b[0m)  │ (\u001b[38;5;45mNone\u001b[0m, \u001b[38;5;34m256\u001b[0m)       │    \u001b[38;5;34m246,016\u001b[0m │ MobileNetV3Large… │\n",
       "├─────────────────────┼───────────────────┼────────────┼───────────────────┤\n",
       "│ combined (\u001b[38;5;33mDot\u001b[0m)      │ (\u001b[38;5;45mNone\u001b[0m, \u001b[38;5;34m128\u001b[0m)       │          \u001b[38;5;34m0\u001b[0m │ denseText2[\u001b[38;5;34m0\u001b[0m][\u001b[38;5;34m0\u001b[0m], │\n",
       "│                     │                   │            │ denseImage[\u001b[38;5;34m0\u001b[0m][\u001b[38;5;34m0\u001b[0m]  │\n",
       "├─────────────────────┼───────────────────┼────────────┼───────────────────┤\n",
       "│ dense_35 (\u001b[38;5;33mDense\u001b[0m)    │ (\u001b[38;5;45mNone\u001b[0m, \u001b[38;5;34m256\u001b[0m)       │     \u001b[38;5;34m33,024\u001b[0m │ combined[\u001b[38;5;34m0\u001b[0m][\u001b[38;5;34m0\u001b[0m]    │\n",
       "├─────────────────────┼───────────────────┼────────────┼───────────────────┤\n",
       "│ dense_36 (\u001b[38;5;33mDense\u001b[0m)    │ (\u001b[38;5;45mNone\u001b[0m, \u001b[38;5;34m256\u001b[0m)       │     \u001b[38;5;34m65,792\u001b[0m │ dense_35[\u001b[38;5;34m0\u001b[0m][\u001b[38;5;34m0\u001b[0m]    │\n",
       "├─────────────────────┼───────────────────┼────────────┼───────────────────┤\n",
       "│ output (\u001b[38;5;33mDense\u001b[0m)      │ (\u001b[38;5;45mNone\u001b[0m, \u001b[38;5;34m1\u001b[0m)         │        \u001b[38;5;34m257\u001b[0m │ dense_36[\u001b[38;5;34m0\u001b[0m][\u001b[38;5;34m0\u001b[0m]    │\n",
       "└─────────────────────┴───────────────────┴────────────┴───────────────────┘\n"
      ]
     },
     "metadata": {},
     "output_type": "display_data"
    },
    {
     "data": {
      "text/html": [
       "<pre style=\"white-space:pre;overflow-x:auto;line-height:normal;font-family:Menlo,'DejaVu Sans Mono',consolas,'Courier New',monospace\"><span style=\"font-weight: bold\"> Total params: </span><span style=\"color: #00af00; text-decoration-color: #00af00\">4,842,281</span> (18.47 MB)\n",
       "</pre>\n"
      ],
      "text/plain": [
       "\u001b[1m Total params: \u001b[0m\u001b[38;5;34m4,842,281\u001b[0m (18.47 MB)\n"
      ]
     },
     "metadata": {},
     "output_type": "display_data"
    },
    {
     "data": {
      "text/html": [
       "<pre style=\"white-space:pre;overflow-x:auto;line-height:normal;font-family:Menlo,'DejaVu Sans Mono',consolas,'Courier New',monospace\"><span style=\"font-weight: bold\"> Trainable params: </span><span style=\"color: #00af00; text-decoration-color: #00af00\">918,529</span> (3.50 MB)\n",
       "</pre>\n"
      ],
      "text/plain": [
       "\u001b[1m Trainable params: \u001b[0m\u001b[38;5;34m918,529\u001b[0m (3.50 MB)\n"
      ]
     },
     "metadata": {},
     "output_type": "display_data"
    },
    {
     "data": {
      "text/html": [
       "<pre style=\"white-space:pre;overflow-x:auto;line-height:normal;font-family:Menlo,'DejaVu Sans Mono',consolas,'Courier New',monospace\"><span style=\"font-weight: bold\"> Non-trainable params: </span><span style=\"color: #00af00; text-decoration-color: #00af00\">3,923,752</span> (14.97 MB)\n",
       "</pre>\n"
      ],
      "text/plain": [
       "\u001b[1m Non-trainable params: \u001b[0m\u001b[38;5;34m3,923,752\u001b[0m (14.97 MB)\n"
      ]
     },
     "metadata": {},
     "output_type": "display_data"
    }
   ],
   "source": [
    "# Compiling\n",
    "inputImageLayer = tf.keras.layers.Input(shape=(224, 224, 3), name='image')\n",
    "\n",
    "# imagenet pre made model\n",
    "baseModel = tf.keras.applications.MobileNetV3Large(\n",
    "\tweights='imagenet',  \n",
    "\tinclude_top=False,\n",
    "\tpooling='max'\n",
    ")\n",
    "\n",
    "baseModel.trainable = False\n",
    "convoLayers = baseModel(inputImageLayer, training=False)\n",
    "denseImage = tf.keras.layers.Dense(256, activation='relu', name='denseImage')(convoLayers)\n",
    "\n",
    "inputTextLayer = tf.keras.layers.Input(shape=(maxLen,), name='text')\n",
    "embeddingText = tf.keras.layers.Embedding(len(vocab), embeddingDim, mask_zero=True, weights=[embeddingMatrix], trainable=False, name='embedding')(inputTextLayer)\n",
    "denseText = tf.keras.layers.TimeDistributed(tf.keras.layers.Dense(128, activation='relu'), name='denseText')(embeddingText)\n",
    "attentionText = tf.keras.layers.MultiHeadAttention(8, maxLen, name='attentionText')(denseText, denseText, denseText)\n",
    "denseText2 = tf.keras.layers.Dense(256, activation='relu', name='denseText2')(attentionText)\n",
    "\n",
    "combinedLayer = tf.keras.layers.Dot((2, 1), normalize=True, name='combined')([denseText2, denseImage])\n",
    "dense1 = tf.keras.layers.Dense(256, activation='relu')(combinedLayer)\n",
    "dense2 = tf.keras.layers.Dense(256, activation='relu')(dense1)\n",
    "output = tf.keras.layers.Dense(1, name='output', activation='sigmoid')(dense2)\n",
    "\n",
    "model = tf.keras.Model(inputs=[inputImageLayer, inputTextLayer], outputs=output)\n",
    "\n",
    "model.compile(\n",
    "  optimizer='adam',\n",
    "  loss='binary_crossentropy',\n",
    "  metrics=['accuracy']\n",
    ")\n",
    "model.summary()\n"
   ]
  },
  {
   "cell_type": "code",
   "execution_count": 56,
   "id": "739d7062",
   "metadata": {},
   "outputs": [
    {
     "name": "stdout",
     "output_type": "stream",
     "text": [
      "Epoch 1/8\n",
      "\u001b[1m353/353\u001b[0m \u001b[32m━━━━━━━━━━━━━━━━━━━━\u001b[0m\u001b[37m\u001b[0m \u001b[1m37s\u001b[0m 76ms/step - accuracy: 0.6585 - loss: 0.6015 - val_accuracy: 0.7111 - val_loss: 0.5598\n",
      "Epoch 2/8\n",
      "\u001b[1m353/353\u001b[0m \u001b[32m━━━━━━━━━━━━━━━━━━━━\u001b[0m\u001b[37m\u001b[0m \u001b[1m15s\u001b[0m 42ms/step - accuracy: 0.7231 - loss: 0.5288 - val_accuracy: 0.7050 - val_loss: 0.5464\n",
      "Epoch 3/8\n",
      "\u001b[1m353/353\u001b[0m \u001b[32m━━━━━━━━━━━━━━━━━━━━\u001b[0m\u001b[37m\u001b[0m \u001b[1m15s\u001b[0m 42ms/step - accuracy: 0.7394 - loss: 0.5041 - val_accuracy: 0.7101 - val_loss: 0.5288\n",
      "Epoch 4/8\n",
      "\u001b[1m353/353\u001b[0m \u001b[32m━━━━━━━━━━━━━━━━━━━━\u001b[0m\u001b[37m\u001b[0m \u001b[1m14s\u001b[0m 40ms/step - accuracy: 0.7517 - loss: 0.4877 - val_accuracy: 0.7224 - val_loss: 0.5187\n",
      "Epoch 5/8\n",
      "\u001b[1m353/353\u001b[0m \u001b[32m━━━━━━━━━━━━━━━━━━━━\u001b[0m\u001b[37m\u001b[0m \u001b[1m14s\u001b[0m 40ms/step - accuracy: 0.7609 - loss: 0.4708 - val_accuracy: 0.7290 - val_loss: 0.5237\n",
      "Epoch 6/8\n",
      "\u001b[1m353/353\u001b[0m \u001b[32m━━━━━━━━━━━━━━━━━━━━\u001b[0m\u001b[37m\u001b[0m \u001b[1m14s\u001b[0m 40ms/step - accuracy: 0.7711 - loss: 0.4560 - val_accuracy: 0.7224 - val_loss: 0.5359\n",
      "Epoch 7/8\n",
      "\u001b[1m353/353\u001b[0m \u001b[32m━━━━━━━━━━━━━━━━━━━━\u001b[0m\u001b[37m\u001b[0m \u001b[1m14s\u001b[0m 40ms/step - accuracy: 0.7780 - loss: 0.4440 - val_accuracy: 0.7239 - val_loss: 0.5400\n",
      "Epoch 8/8\n",
      "\u001b[1m353/353\u001b[0m \u001b[32m━━━━━━━━━━━━━━━━━━━━\u001b[0m\u001b[37m\u001b[0m \u001b[1m14s\u001b[0m 40ms/step - accuracy: 0.7827 - loss: 0.4345 - val_accuracy: 0.7423 - val_loss: 0.5283\n"
     ]
    }
   ],
   "source": [
    "# Training\n",
    "\n",
    "history = model.fit(\n",
    "  trainDS,\n",
    "\tvalidation_data=valDS,\n",
    "  epochs=8,\n",
    "  batch_size=batchSize\n",
    ")"
   ]
  },
  {
   "cell_type": "code",
   "execution_count": 43,
   "id": "993c7e59",
   "metadata": {},
   "outputs": [],
   "source": [
    "model.save('./final.keras')"
   ]
  }
 ],
 "metadata": {
  "kernelspec": {
   "display_name": ".venv",
   "language": "python",
   "name": "python3"
  },
  "language_info": {
   "codemirror_mode": {
    "name": "ipython",
    "version": 3
   },
   "file_extension": ".py",
   "mimetype": "text/x-python",
   "name": "python",
   "nbconvert_exporter": "python",
   "pygments_lexer": "ipython3",
   "version": "3.10.18"
  }
 },
 "nbformat": 4,
 "nbformat_minor": 5
}
